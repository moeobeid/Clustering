{
 "cells": [
  {
   "cell_type": "code",
   "execution_count": 1,
   "id": "7570a38f-5f81-4685-882d-fc57f00b828e",
   "metadata": {},
   "outputs": [],
   "source": [
    "import numpy as np\n",
    "import pandas as pd\n",
    "from scipy.stats import multivariate_normal"
   ]
  },
  {
   "cell_type": "code",
   "execution_count": 2,
   "id": "926b2bdc-bfc9-4a9c-8bf3-15c0445bf9e6",
   "metadata": {},
   "outputs": [],
   "source": [
    "# Load the data\n",
    "wine_data = pd.read_csv('winedata.csv').values # 300x12 2D np.array\n",
    "\n",
    "# Standardize the data\n",
    "wine_data = (wine_data - np.mean(wine_data, axis=0)) / np.std(wine_data, axis=0) # 300x12 np.array"
   ]
  },
  {
   "cell_type": "markdown",
   "id": "9800bc5b-2be1-47fd-94e5-bba499f997b7",
   "metadata": {},
   "source": [
    "# K-Means Algorithm"
   ]
  },
  {
   "cell_type": "code",
   "execution_count": 3,
   "id": "c3b7cc99-dd87-4825-9fe0-f2fc3c3dad2c",
   "metadata": {},
   "outputs": [],
   "source": [
    "def k_means(data, c1, c2):\n",
    "    '''\n",
    "    Inputs: data, initial 2 cluster centers\n",
    "    Returns:\n",
    "    \n",
    "    '''\n",
    "    # Concatenate the two cluster centers\n",
    "    cluster_centers = np.concatenate((c1, c2), axis=0) # 2x12\n",
    "    \n",
    "    # Initialize the previous cluster assignments to be different from the current ones\n",
    "    prev_assignments = np.zeros(data.shape[0])\n",
    "    \n",
    "    # Initialize the current cluster assignments to be different from the previous ones\n",
    "    assignments = np.ones(data.shape[0])\n",
    "    \n",
    "    num_iter = 0\n",
    "    \n",
    "    # Loop until the cluster assignments no longer change\n",
    "    while not np.array_equal(prev_assignments, assignments):\n",
    "        distances = np.linalg.norm(data - cluster_centers[:, np.newaxis], axis=2) # data - cluster_centers[:,np.newaxis] = 300x12 - 2x1x12 = 2x300x12\n",
    "        assignments = np.argmin(distances, axis=0) # assignments of each data point to a cluster center (300 elements)\n",
    "        \n",
    "        for j in range(2):\n",
    "            cluster_centers[j] = np.mean(data[assignments == j], axis=0) # update cluster centers based on the mean of the assigned data points\n",
    "        \n",
    "        # Update the previous cluster assignments\n",
    "        prev_assignments = assignments\n",
    "        \n",
    "        # Increment the number of iterations\n",
    "        num_iter += 1\n",
    "    \n",
    "    a = (np.sum(assignments[:150] == 1) + np.sum(assignments[150:] == 0)) / data.shape[0]\n",
    "    b = (np.sum(assignments[:150] == 0) + np.sum(assignments[150:] == 1)) / data.shape[0]\n",
    "    cluster_error = 1 - np.max(np.array([a,b]))\n",
    "    \n",
    "    return cluster_error, num_iter # return the final cluster centers, and the number of iterations"
   ]
  },
  {
   "cell_type": "code",
   "execution_count": 4,
   "id": "bd9f7add-bc85-4d0b-ac9a-0210ed8b47c6",
   "metadata": {},
   "outputs": [
    {
     "data": {
      "text/plain": [
       "(0.25, 1)"
      ]
     },
     "execution_count": 4,
     "metadata": {},
     "output_type": "execute_result"
    }
   ],
   "source": [
    "c1 = np.random.normal(0,1,size=(1,12))\n",
    "c2 = np.random.normal(0,1,size=(1,12))\n",
    "\n",
    "k_means(wine_data, c1, c2)"
   ]
  },
  {
   "cell_type": "code",
   "execution_count": 5,
   "id": "ac0a4872-2cd0-40a3-a45a-56b2daa04be9",
   "metadata": {},
   "outputs": [
    {
     "data": {
      "text/plain": [
       "(0.030000000000000027, 1)"
      ]
     },
     "execution_count": 5,
     "metadata": {},
     "output_type": "execute_result"
    }
   ],
   "source": [
    "c1 = np.mean(wine_data[:150,:], axis=0).reshape((1,12))\n",
    "c2 = np.mean(wine_data[150:,:], axis=0).reshape((1,12))\n",
    "\n",
    "k_means(wine_data, c1, c2)"
   ]
  },
  {
   "cell_type": "markdown",
   "id": "12ccc49d-70e9-44e6-9a1c-6969ff31c50b",
   "metadata": {},
   "source": [
    "# EM Algorithm for GMM"
   ]
  },
  {
   "cell_type": "code",
   "execution_count": 6,
   "id": "8d76d8ad-1cbb-4366-a684-b19bde80064c",
   "metadata": {},
   "outputs": [],
   "source": [
    "def EM_GMM(X, pi, mu, cov, max_iter):\n",
    "\n",
    "    for i in range(max_iter):\n",
    "        # E-step\n",
    "        likelihood1 = multivariate_normal.pdf(X, mean=mu[0], cov=cov[0])\n",
    "        likelihood2 = multivariate_normal.pdf(X, mean=mu[1], cov=cov[1])\n",
    "        w1 = (pi[0] * likelihood1) / (pi[0] * likelihood1 + pi[1] * likelihood2) # posterior probability\n",
    "        w2 = 1 - w1\n",
    "\n",
    "        # M-step\n",
    "        N1 = np.sum(w1)\n",
    "        N2 = np.sum(w2)\n",
    "        pi = np.array([N1, N2]) / X.shape[0]\n",
    "        mu[0] = np.dot(w1, X) / N1\n",
    "        mu[1] = np.dot(w2, X) / N2\n",
    "        cov[0] = np.dot(w1 * (X - mu[0]).T, X - mu[0]) / (N1 - 1)\n",
    "        cov[1] = np.dot(w1 * (X - mu[1]).T, X - mu[1]) / (N2 - 1)\n",
    "        cov[0] = np.dot((X - mu[0]).T, (X - mu[0]) * w1.reshape(-1, 1)) / (N1 - 1)\n",
    "        cov[1] = np.dot((X - mu[1]).T, (X - mu[1]) * w2.reshape(-1, 1)) / (N2 - 1)\n",
    "\n",
    "    # compute the cluster error\n",
    "    pred_labels = np.argmax(np.vstack([w1, w2]).T, axis=1)\n",
    "    # true_labels = np.repeat([0, 1], X.shape[0]/2)\n",
    "    \n",
    "    a = (np.sum(pred_labels[:150] == 1) + np.sum(pred_labels[150:] == 0)) / X.shape[0]\n",
    "    b = (np.sum(pred_labels[:150] == 0) + np.sum(pred_labels[150:] == 1)) / X.shape[0]\n",
    "    cluster_error = 1 - np.max(np.array([a,b]))\n",
    "    \n",
    "    return cluster_error"
   ]
  },
  {
   "cell_type": "code",
   "execution_count": 7,
   "id": "ec57807c-5996-4297-8aef-4f196eec353a",
   "metadata": {},
   "outputs": [
    {
     "data": {
      "text/plain": [
       "0.4666666666666667"
      ]
     },
     "execution_count": 7,
     "metadata": {},
     "output_type": "execute_result"
    }
   ],
   "source": [
    "pi = np.array([0.5, 0.5])\n",
    "\n",
    "mean1 = np.random.normal(0,1,size=(1,12))\n",
    "mean2 = np.random.normal(0,1,size=(1,12))\n",
    "mu = np.vstack([mean1, mean2])\n",
    "\n",
    "cov = np.tile((np.eye(12)), (2, 1, 1))\n",
    "\n",
    "EM_GMM(wine_data, pi, mu, cov, 400)"
   ]
  },
  {
   "cell_type": "code",
   "execution_count": 8,
   "id": "35991eba-9e29-44b8-8ae2-c03cf25195ff",
   "metadata": {},
   "outputs": [
    {
     "data": {
      "text/plain": [
       "0.036666666666666625"
      ]
     },
     "execution_count": 8,
     "metadata": {},
     "output_type": "execute_result"
    }
   ],
   "source": [
    "pi = np.array([0.5, 0.5])\n",
    "\n",
    "mean1 = np.mean(wine_data[:150,:], axis=0).reshape((1,12))\n",
    "mean2 = np.mean(wine_data[150:,:], axis=0).reshape((1,12))\n",
    "mu = np.vstack([mean1, mean2])\n",
    "\n",
    "cov = np.tile((np.eye(12)), (2, 1, 1))\n",
    "\n",
    "EM_GMM(wine_data, pi, mu, cov, 400)"
   ]
  }
 ],
 "metadata": {
  "kernelspec": {
   "display_name": "Python 3 (ipykernel)",
   "language": "python",
   "name": "python3"
  },
  "language_info": {
   "codemirror_mode": {
    "name": "ipython",
    "version": 3
   },
   "file_extension": ".py",
   "mimetype": "text/x-python",
   "name": "python",
   "nbconvert_exporter": "python",
   "pygments_lexer": "ipython3",
   "version": "3.9.13"
  }
 },
 "nbformat": 4,
 "nbformat_minor": 5
}
